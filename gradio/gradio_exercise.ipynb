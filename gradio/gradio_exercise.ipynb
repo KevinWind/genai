{
 "cells": [
  {
   "cell_type": "code",
   "execution_count": null,
   "id": "41f30e1b",
   "metadata": {},
   "outputs": [],
   "source": [
    "# Establish a local MCP server"
   ]
  },
  {
   "cell_type": "code",
   "execution_count": null,
   "id": "ad76907a",
   "metadata": {},
   "outputs": [
    {
     "name": "stdout",
     "output_type": "stream",
     "text": [
      "* Running on local URL:  http://127.0.0.1:7860\n",
      "* To create a public link, set `share=True` in `launch()`.\n",
      "\n",
      "🔨 Launching MCP server:\n",
      "** Streamable HTTP URL: http://127.0.0.1:7860/gradio_api/mcp/\n",
      "* [Deprecated] SSE URL: http://127.0.0.1:7860/gradio_api/mcp/sse\n"
     ]
    },
    {
     "data": {
      "text/html": [
       "<div><iframe src=\"http://127.0.0.1:7860/\" width=\"100%\" height=\"500\" allow=\"autoplay; camera; microphone; clipboard-read; clipboard-write;\" frameborder=\"0\" allowfullscreen></iframe></div>"
      ],
      "text/plain": [
       "<IPython.core.display.HTML object>"
      ]
     },
     "metadata": {},
     "output_type": "display_data"
    },
    {
     "name": "stderr",
     "output_type": "stream",
     "text": [
      "Error in message router\n",
      "Traceback (most recent call last):\n",
      "  File \"/Users/kevinfeng/src/genai/.venv/lib/python3.13/site-packages/mcp/server/streamable_http.py\", line 831, in message_router\n",
      "    async for session_message in write_stream_reader:\n",
      "    ...<46 lines>...\n",
      "            )\n",
      "  File \"/Users/kevinfeng/src/genai/.venv/lib/python3.13/site-packages/anyio/abc/_streams.py\", line 41, in __anext__\n",
      "    return await self.receive()\n",
      "           ^^^^^^^^^^^^^^^^^^^^\n",
      "  File \"/Users/kevinfeng/src/genai/.venv/lib/python3.13/site-packages/anyio/streams/memory.py\", line 111, in receive\n",
      "    return self.receive_nowait()\n",
      "           ~~~~~~~~~~~~~~~~~~~^^\n",
      "  File \"/Users/kevinfeng/src/genai/.venv/lib/python3.13/site-packages/anyio/streams/memory.py\", line 93, in receive_nowait\n",
      "    raise ClosedResourceError\n",
      "anyio.ClosedResourceError\n"
     ]
    },
    {
     "name": "stdout",
     "output_type": "stream",
     "text": [
      "Created dataset file at: .gradio/flagged/dataset1.csv\n"
     ]
    },
    {
     "ename": "",
     "evalue": "",
     "output_type": "error",
     "traceback": [
      "\u001b[1;31mThe Kernel crashed while executing code in the current cell or a previous cell. \n",
      "\u001b[1;31mPlease review the code in the cell(s) to identify a possible cause of the failure. \n",
      "\u001b[1;31mClick <a href='https://aka.ms/vscodeJupyterKernelCrash'>here</a> for more info. \n",
      "\u001b[1;31mView Jupyter <a href='command:jupyter.viewOutput'>log</a> for further details."
     ]
    }
   ],
   "source": [
    "import gradio as gr\n",
    "\n",
    "def letter_counter(word: str, letter: str) -> int:\n",
    "    \"\"\"\n",
    "    Count the number of occurrences of a letter in a word or text.\n",
    "    \"\"\"\n",
    "    word = word.lower()\n",
    "    letter = letter.lower()\n",
    "    count = word.count(letter)\n",
    "    return count\n",
    "\n",
    "# Create interface\n",
    "demo = gr.Interface(\n",
    "    fn=letter_counter,\n",
    "    inputs=[\"textbox\", \"textbox\"],\n",
    "    outputs=\"number\",\n",
    "    title=\"Letter Counter\",\n",
    "    description=\"Enter text and a letter to count how many times the letter appears.\"\n",
    ")\n",
    "\n",
    "# Launch with MCP server\n",
    "if __name__ == \"__main__\":\n",
    "    demo.launch(mcp_server=True, server_port=7860)"
   ]
  },
  {
   "cell_type": "code",
   "execution_count": null,
   "id": "fb7b0bb3",
   "metadata": {},
   "outputs": [],
   "source": []
  }
 ],
 "metadata": {
  "kernelspec": {
   "display_name": ".venv",
   "language": "python",
   "name": "python3"
  },
  "language_info": {
   "codemirror_mode": {
    "name": "ipython",
    "version": 3
   },
   "file_extension": ".py",
   "mimetype": "text/x-python",
   "name": "python",
   "nbconvert_exporter": "python",
   "pygments_lexer": "ipython3",
   "version": "3.13.5"
  }
 },
 "nbformat": 4,
 "nbformat_minor": 5
}
